{
 "cells": [
  {
   "cell_type": "code",
   "execution_count": 39,
   "id": "0e852e22-f772-4e95-92b4-219d6edd1221",
   "metadata": {},
   "outputs": [],
   "source": [
    "import pandas as pd\n",
    "import numpy as np\n",
    "from pandas import Series,DataFrame"
   ]
  },
  {
   "cell_type": "code",
   "execution_count": 52,
   "id": "9d21bee1-7e33-4c60-bd80-b141166b5f18",
   "metadata": {},
   "outputs": [
    {
     "data": {
      "text/plain": [
       "sun    18\n",
       "mon    21\n",
       "tue    15\n",
       "wed    19\n",
       "thu    19\n",
       "fri    23\n",
       "sat    21\n",
       "sun    22\n",
       "mon    17\n",
       "tue    19\n",
       "wed    24\n",
       "thu    27\n",
       "fri    14\n",
       "sat    28\n",
       "sun    27\n",
       "mon    24\n",
       "tue    21\n",
       "wed    18\n",
       "thu    27\n",
       "fri    30\n",
       "sat    29\n",
       "sun    27\n",
       "mon    22\n",
       "tue    14\n",
       "wed    20\n",
       "thu    23\n",
       "fri    14\n",
       "sat    22\n",
       "dtype: int8"
      ]
     },
     "execution_count": 52,
     "metadata": {},
     "output_type": "execute_result"
    }
   ],
   "source": [
    "days=\"sun mon tue wed thu fri sat\".split()\n",
    "g=np.random.default_rng(0)\n",
    "g.normal(20,5,28)\n",
    "lis1=Series(g.normal(20,5,28), index=days*4).round().astype(np.int8)\n",
    "lis1"
   ]
  },
  {
   "cell_type": "code",
   "execution_count": 55,
   "id": "9f44bc92-b8e8-4c52-a11e-ee1f76049fe4",
   "metadata": {},
   "outputs": [
    {
     "name": "stdout",
     "output_type": "stream",
     "text": [
      "21.0\n"
     ]
    }
   ],
   "source": [
    "print(lis1.loc['mon'].mean())"
   ]
  },
  {
   "cell_type": "code",
   "execution_count": null,
   "id": "a2bb2c5b-6236-4936-8f01-eab3643602b2",
   "metadata": {},
   "outputs": [],
   "source": []
  }
 ],
 "metadata": {
  "kernelspec": {
   "display_name": "Python 3 (ipykernel)",
   "language": "python",
   "name": "python3"
  },
  "language_info": {
   "codemirror_mode": {
    "name": "ipython",
    "version": 3
   },
   "file_extension": ".py",
   "mimetype": "text/x-python",
   "name": "python",
   "nbconvert_exporter": "python",
   "pygments_lexer": "ipython3",
   "version": "3.13.6"
  }
 },
 "nbformat": 4,
 "nbformat_minor": 5
}
