{
 "cells": [
  {
   "cell_type": "code",
   "execution_count": 1,
   "id": "0e852e22-f772-4e95-92b4-219d6edd1221",
   "metadata": {},
   "outputs": [],
   "source": [
    "import pandas as pd\n",
    "import numpy as np\n",
    "from pandas import Series,DataFrame"
   ]
  },
  {
   "cell_type": "code",
   "execution_count": 3,
   "id": "11684c18-5abf-44c3-af4c-8e9ba310cd12",
   "metadata": {},
   "outputs": [
    {
     "name": "stdout",
     "output_type": "stream",
     "text": [
      "Kite\n"
     ]
    }
   ],
   "source": [
    "print(\"Kite\")"
   ]
  },
  {
   "cell_type": "code",
   "execution_count": 38,
   "id": "523d32cc-e887-4971-bd1b-ac6b0d32ac43",
   "metadata": {},
   "outputs": [
    {
     "name": "stdout",
     "output_type": "stream",
     "text": [
      "count    100000.000000\n",
      "mean         -0.090825\n",
      "std         100.013350\n",
      "min        -449.411704\n",
      "25%         -67.292120\n",
      "50%          -0.414699\n",
      "75%          67.636542\n",
      "max         473.195769\n",
      "dtype: float64\n",
      "#############################\n",
      "count    100000.000000\n",
      "mean         -0.062671\n",
      "std         100.282770\n",
      "min        -402.315865\n",
      "25%         -67.288054\n",
      "50%          -0.409289\n",
      "75%          67.640758\n",
      "max        2365.978844\n",
      "dtype: float64\n"
     ]
    }
   ],
   "source": [
    "gen=np.random.default_rng(0)\n",
    "s=Series(gen.normal(0,100,100_000))\n",
    "print(s.describe())\n",
    "print(\"#############################\")\n",
    "\n",
    "s.loc[s==s.min()]=5*s.max()\n",
    "\n",
    "print(s.describe())"
   ]
  },
  {
   "cell_type": "code",
   "execution_count": null,
   "id": "b1a65d4e-e856-413b-8e66-121910a01f0f",
   "metadata": {},
   "outputs": [],
   "source": []
  }
 ],
 "metadata": {
  "kernelspec": {
   "display_name": "Python 3 (ipykernel)",
   "language": "python",
   "name": "python3"
  },
  "language_info": {
   "codemirror_mode": {
    "name": "ipython",
    "version": 3
   },
   "file_extension": ".py",
   "mimetype": "text/x-python",
   "name": "python",
   "nbconvert_exporter": "python",
   "pygments_lexer": "ipython3",
   "version": "3.13.6"
  }
 },
 "nbformat": 4,
 "nbformat_minor": 5
}
