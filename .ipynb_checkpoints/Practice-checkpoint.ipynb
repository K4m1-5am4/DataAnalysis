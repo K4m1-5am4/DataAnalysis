{
 "cells": [
  {
   "cell_type": "code",
   "execution_count": 56,
   "id": "0e852e22-f772-4e95-92b4-219d6edd1221",
   "metadata": {},
   "outputs": [],
   "source": [
    "import pandas as pd\n",
    "import numpy as np\n",
    "from pandas import Series,DataFrame\n",
    "from sklearn.preprocessing import StandardScaler\n",
    "from imblearn.over_sampling import RandomOverSampler"
   ]
  },
  {
   "cell_type": "code",
   "execution_count": 57,
   "id": "41323931-7a23-492d-bd16-8731e449990b",
   "metadata": {},
   "outputs": [],
   "source": [
    "heads=[\"fLength\",\"fWidth\",\"fSize\",\"fConc\",\"fConc1\",\"fAsym\",\"fM3Long\",\"fM3Trans\",\"fAlpha\",\"fDist\",\"Class\"]\n",
    "ds=pd.read_csv(\"magic04.data\",names=heads)"
   ]
  },
  {
   "cell_type": "code",
   "execution_count": 58,
   "id": "583881e1-8611-428d-8069-61cb04128779",
   "metadata": {},
   "outputs": [],
   "source": [
    "ds[\"Class\"]=(ds[\"Class\"]=='g').astype(int)"
   ]
  },
  {
   "cell_type": "code",
   "execution_count": 122,
   "id": "ca121fec-f943-4b25-b4b9-529429fac8b4",
   "metadata": {},
   "outputs": [],
   "source": [
    "ds_shuffled = ds.sample(frac=1, random_state=0)\n",
    "\n",
    "train_end = int(0.6 * len(ds_shuffled))\n",
    "valid_end = int(0.8 * len(ds_shuffled))\n",
    "\n",
    "train = ds_shuffled.iloc[:train_end]\n",
    "valid = ds_shuffled.iloc[train_end:valid_end]\n",
    "test  = ds_shuffled.iloc[valid_end:]"
   ]
  },
  {
   "cell_type": "code",
   "execution_count": 123,
   "id": "bb2c6026-e100-4eda-9652-c89f3a9b8fa2",
   "metadata": {},
   "outputs": [],
   "source": [
    "def scale_dataset(dataframe, oversample=False):\n",
    "    X=dataframe[dataframe.columns[:-1]].values\n",
    "    Y=dataframe[dataframe.columns[-1]].values\n",
    "\n",
    "    scaler = StandardScaler()\n",
    "    X = scaler.fit_transform(X)\n",
    "\n",
    "    if oversample:\n",
    "        ros = RandomOverSampler()\n",
    "        X, Y = ros.fit_resample(X, Y)\n",
    "\n",
    "    data = np.hstack((X, np.reshape(Y, (-1, 1))))\n",
    "\n",
    "    return data, X, Y"
   ]
  },
  {
   "cell_type": "code",
   "execution_count": 124,
   "id": "b87caa67-03a9-408a-a6dc-2b0f8ff7c4b9",
   "metadata": {},
   "outputs": [],
   "source": [
    "train, X_train, Y_train = scale_dataset(train, oversample=True)\n",
    "valid, X_valid, Y_valid = scale_dataset(valid, oversample=False)\n",
    "test, X_test, Y_test = scale_dataset(test, oversample=False)"
   ]
  },
  {
   "cell_type": "code",
   "execution_count": 125,
   "id": "6492d343-dc9c-47e4-9458-65e73fc6db64",
   "metadata": {},
   "outputs": [
    {
     "data": {
      "text/plain": [
       "14716"
      ]
     },
     "execution_count": 125,
     "metadata": {},
     "output_type": "execute_result"
    }
   ],
   "source": [
    "len(Y_train)"
   ]
  },
  {
   "cell_type": "code",
   "execution_count": null,
   "id": "dc835a95-0a34-4c5a-97f0-8459bf01067b",
   "metadata": {},
   "outputs": [],
   "source": []
  }
 ],
 "metadata": {
  "kernelspec": {
   "display_name": "Python 3 (ipykernel)",
   "language": "python",
   "name": "python3"
  },
  "language_info": {
   "codemirror_mode": {
    "name": "ipython",
    "version": 3
   },
   "file_extension": ".py",
   "mimetype": "text/x-python",
   "name": "python",
   "nbconvert_exporter": "python",
   "pygments_lexer": "ipython3",
   "version": "3.13.6"
  }
 },
 "nbformat": 4,
 "nbformat_minor": 5
}
